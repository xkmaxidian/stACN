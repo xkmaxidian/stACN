{
 "cells": [
  {
   "cell_type": "code",
   "execution_count": 1,
   "metadata": {},
   "outputs": [],
   "source": [
    "import st_acn\n",
    "import os"
   ]
  },
  {
   "cell_type": "code",
   "execution_count": 2,
   "metadata": {},
   "outputs": [],
   "source": [
    "import mnmstpy as mnmst"
   ]
  },
  {
   "cell_type": "code",
   "execution_count": 3,
   "metadata": {},
   "outputs": [
    {
     "name": "stderr",
     "output_type": "stream",
     "text": [
      "C:\\Users\\16419\\Anaconda3\\envs\\your_out_env\\lib\\site-packages\\anndata\\_core\\anndata.py:1830: UserWarning: Variable names are not unique. To make them unique, call `.var_names_make_unique`.\n",
      "  utils.warn_names_duplicates(\"var\")\n"
     ]
    },
    {
     "data": {
      "text/plain": [
       "View of AnnData object with n_obs × n_vars = 3592 × 3000\n",
       "    obs: 'in_tissue', 'array_row', 'array_col'\n",
       "    var: 'gene_ids', 'feature_types', 'genome', 'n_cells', 'highly_variable', 'highly_variable_rank', 'means', 'variances', 'variances_norm'\n",
       "    uns: 'spatial', 'hvg'\n",
       "    obsm: 'spatial'"
      ]
     },
     "metadata": {},
     "output_type": "display_data"
    }
   ],
   "source": [
    "import scanpy as sc\n",
    "\n",
    "section_id = '151675'\n",
    "input_dir = os.path.join('F:\\\\UGIMC\\\\Data', section_id)\n",
    "adata = sc.read_visium(path = input_dir, count_file = section_id+'_filtered_feature_bc_matrix.h5')\n",
    "adata.var_names_make_unique()\n",
    "sc.pp.filter_genes(adata, min_cells=10)\n",
    "sc.pp.highly_variable_genes(adata, flavor='seurat_v3', n_top_genes=3000)\n",
    "hvg_filter = adata.var['highly_variable']\n",
    "sc.pp.normalize_total(adata, inplace=True)\n",
    "adata = adata[:, hvg_filter]\n",
    "display(adata)"
   ]
  },
  {
   "cell_type": "markdown",
   "source": [],
   "metadata": {
    "collapsed": false
   }
  },
  {
   "cell_type": "code",
   "execution_count": 4,
   "metadata": {},
   "outputs": [
    {
     "name": "stdout",
     "output_type": "stream",
     "text": [
      "\n",
      "Median distance to closest cell = 138.00362314084367\n",
      "num_nbrs: 3000\n"
     ]
    },
    {
     "name": "stderr",
     "output_type": "stream",
     "text": [
      "C:\\Users\\16419\\Anaconda3\\envs\\your_out_env\\lib\\site-packages\\mnmstpy\\utils.py:181: FutureWarning: X.dtype being converted to np.float32 from float64. In the next version of anndata (0.9) conversion will not be automatic. Pass dtype explicitly to avoid this warning. Pass `AnnData(X, dtype=X.dtype, ...)` to get the future behavour.\n",
      "  return anndata.AnnData(matrix, obs=adata.obs, var=var_combined, uns=adata.uns, obsm=adata.obsm)\n"
     ]
    }
   ],
   "source": [
    "enhanced_adata, cell_spatial = mnmst.data_enhance(adata, k_nei=6)"
   ]
  },
  {
   "cell_type": "code",
   "execution_count": 5,
   "metadata": {},
   "outputs": [],
   "source": [
    "sc.pp.pca(enhanced_adata)\n"
   ]
  },
  {
   "cell_type": "code",
   "execution_count": 6,
   "metadata": {},
   "outputs": [
    {
     "data": {
      "text/plain": [
       "array([[-3.2056735 ,  3.5576563 ,  1.8095381 , ...,  0.03319357,\n",
       "         1.7386935 , -0.79040796],\n",
       "       [-6.0986304 , -2.4624887 , -1.5821352 , ..., -0.1268688 ,\n",
       "         1.0101007 , -1.2005839 ],\n",
       "       [24.870382  ,  0.10176751, -2.7089322 , ..., -1.0544227 ,\n",
       "        -1.6599933 ,  0.4441213 ],\n",
       "       ...,\n",
       "       [24.85237   , -1.3490579 , -1.6128094 , ..., -0.40623134,\n",
       "         3.4623342 , -1.3783656 ],\n",
       "       [-3.5409114 , -1.3799828 ,  4.518481  , ..., -3.4852898 ,\n",
       "        -0.9562641 ,  1.1378083 ],\n",
       "       [12.777481  , -0.6544561 ,  0.55920327, ..., -1.2540019 ,\n",
       "        -2.7717128 , -0.11662232]], dtype=float32)"
      ]
     },
     "execution_count": 6,
     "metadata": {},
     "output_type": "execute_result"
    }
   ],
   "source": [
    "low_dim_x"
   ]
  },
  {
   "cell_type": "code",
   "execution_count": 7,
   "metadata": {},
   "outputs": [
    {
     "data": {
      "text/plain": [
       "array([[0., 0., 0., ..., 0., 0., 0.],\n",
       "       [0., 0., 0., ..., 0., 0., 0.],\n",
       "       [0., 0., 0., ..., 0., 0., 0.],\n",
       "       ...,\n",
       "       [0., 0., 0., ..., 0., 0., 0.],\n",
       "       [0., 0., 0., ..., 0., 0., 0.],\n",
       "       [0., 0., 0., ..., 0., 0., 0.]])"
      ]
     },
     "execution_count": 7,
     "metadata": {},
     "output_type": "execute_result"
    }
   ],
   "source": [
    "cell_spatial.A"
   ]
  },
  {
   "cell_type": "code",
   "execution_count": 8,
   "metadata": {},
   "outputs": [
    {
     "name": "stderr",
     "output_type": "stream",
     "text": [
      "C:\\Users\\16419\\AppData\\Local\\Temp\\ipykernel_24652\\1545262636.py:4: ImplicitModificationWarning: Trying to modify attribute `.obs` of view, initializing view as actual.\n",
      "  adata.obs['Ground Truth'] = Ann_df.loc[adata.obs_names, 'Ground Truth']\n"
     ]
    }
   ],
   "source": [
    "import pandas as pd\n",
    "Ann_df = pd.read_csv(os.path.join('F:\\\\UGIMC\\\\Data', section_id, section_id+'_truth.txt'), sep='\\t', header=None, index_col=0)\n",
    "Ann_df.columns = ['Ground Truth']\n",
    "adata.obs['Ground Truth'] = Ann_df.loc[adata.obs_names, 'Ground Truth']\n",
    "gt = pd.Categorical(adata.obs['Ground Truth']).codes"
   ]
  },
  {
   "cell_type": "code",
   "execution_count": 9,
   "metadata": {},
   "outputs": [
    {
     "data": {
      "text/plain": [
       "array([[0., 0., 0., ..., 0., 0., 0.],\n",
       "       [0., 0., 0., ..., 0., 0., 0.],\n",
       "       [0., 0., 0., ..., 0., 0., 0.],\n",
       "       ...,\n",
       "       [0., 0., 0., ..., 0., 0., 0.],\n",
       "       [0., 0., 0., ..., 0., 0., 0.],\n",
       "       [0., 0., 0., ..., 0., 0., 0.]])"
      ]
     },
     "execution_count": 9,
     "metadata": {},
     "output_type": "execute_result"
    }
   ],
   "source": [
    "cell_spatial.A"
   ]
  },
  {
   "cell_type": "code",
   "execution_count": 10,
   "metadata": {},
   "outputs": [
    {
     "data": {
      "text/plain": [
       "array([[-3.2056735 ,  3.5576563 ,  1.8095381 , ...,  0.03319357,\n",
       "         1.7386935 , -0.79040796],\n",
       "       [-6.0986304 , -2.4624887 , -1.5821352 , ..., -0.1268688 ,\n",
       "         1.0101007 , -1.2005839 ],\n",
       "       [24.870382  ,  0.10176751, -2.7089322 , ..., -1.0544227 ,\n",
       "        -1.6599933 ,  0.4441213 ],\n",
       "       ...,\n",
       "       [24.85237   , -1.3490579 , -1.6128094 , ..., -0.40623134,\n",
       "         3.4623342 , -1.3783656 ],\n",
       "       [-3.5409114 , -1.3799828 ,  4.518481  , ..., -3.4852898 ,\n",
       "        -0.9562641 ,  1.1378083 ],\n",
       "       [12.777481  , -0.6544561 ,  0.55920327, ..., -1.2540019 ,\n",
       "        -2.7717128 , -0.11662232]], dtype=float32)"
      ]
     },
     "execution_count": 10,
     "metadata": {},
     "output_type": "execute_result"
    }
   ],
   "source": [
    "low_dim_x"
   ]
  },
  {
   "cell_type": "code",
   "execution_count": 11,
   "metadata": {},
   "outputs": [
    {
     "name": "stdout",
     "output_type": "stream",
     "text": [
      "(3592, 50)\n",
      "(3592, 3592)\n"
     ]
    },
    {
     "ename": "ValueError",
     "evalue": "setting an array element with a sequence.",
     "output_type": "error",
     "traceback": [
      "\u001B[1;31m---------------------------------------------------------------------------\u001B[0m",
      "\u001B[1;31mTypeError\u001B[0m                                 Traceback (most recent call last)",
      "\u001B[1;31mTypeError\u001B[0m: only size-1 arrays can be converted to Python scalars",
      "\nThe above exception was the direct cause of the following exception:\n",
      "\u001B[1;31mValueError\u001B[0m                                Traceback (most recent call last)",
      "Cell \u001B[1;32mIn[11], line 2\u001B[0m\n\u001B[0;32m      1\u001B[0m \u001B[38;5;28;01mimport\u001B[39;00m \u001B[38;5;21;01mstACN\u001B[39;00m\n\u001B[1;32m----> 2\u001B[0m Z \u001B[38;5;241m=\u001B[39m \u001B[43mstACN\u001B[49m\u001B[38;5;241;43m.\u001B[39;49m\u001B[43mstACN_master\u001B[49m\u001B[43m(\u001B[49m\u001B[43mlow_dim_x\u001B[49m\u001B[43m,\u001B[49m\u001B[43m \u001B[49m\u001B[43mcell_spatial\u001B[49m\u001B[38;5;241;43m.\u001B[39;49m\u001B[43mA\u001B[49m\u001B[43m,\u001B[49m\u001B[43mgt\u001B[49m\u001B[43m)\u001B[49m\n",
      "File \u001B[1;32mF:\\UGIMC\\1215\\stACN.py:43\u001B[0m, in \u001B[0;36mstACN_master\u001B[1;34m(expression, spatial_network, gt, lamb, dim)\u001B[0m\n\u001B[0;32m     41\u001B[0m d \u001B[38;5;241m=\u001B[39m \u001B[38;5;241m1\u001B[39m\n\u001B[0;32m     42\u001B[0m \u001B[38;5;28;01mfor\u001B[39;00m i \u001B[38;5;129;01min\u001B[39;00m \u001B[38;5;28mrange\u001B[39m(V):\n\u001B[1;32m---> 43\u001B[0m     \u001B[43mP\u001B[49m\u001B[43m[\u001B[49m\u001B[43mi\u001B[49m\u001B[43m]\u001B[49m \u001B[38;5;241m=\u001B[39m Opt_P(Yh[i], mu, Eh[i], X[i] \u001B[38;5;241m-\u001B[39m X[i] \u001B[38;5;241m@\u001B[39m Zv[i])\n\u001B[0;32m     44\u001B[0m     A \u001B[38;5;241m=\u001B[39m P[i] \u001B[38;5;241m@\u001B[39m X[i]\n\u001B[0;32m     45\u001B[0m     Zv[i] \u001B[38;5;241m=\u001B[39m np\u001B[38;5;241m.\u001B[39mlinalg\u001B[38;5;241m.\u001B[39msolve(A\u001B[38;5;241m.\u001B[39mT \u001B[38;5;241m@\u001B[39m A \u001B[38;5;241m+\u001B[39m np\u001B[38;5;241m.\u001B[39meye(N), A\u001B[38;5;241m.\u001B[39mT \u001B[38;5;241m@\u001B[39m (Yh[i] \u001B[38;5;241m/\u001B[39m mu) \u001B[38;5;241m+\u001B[39m A\u001B[38;5;241m.\u001B[39mT \u001B[38;5;241m@\u001B[39m (A \u001B[38;5;241m-\u001B[39m Eh[i]) \u001B[38;5;241m+\u001B[39m T[i] \u001B[38;5;241m-\u001B[39m Ys[i] \u001B[38;5;241m/\u001B[39m mu)\n",
      "\u001B[1;31mValueError\u001B[0m: setting an array element with a sequence."
     ]
    }
   ],
   "source": [
    "import stACN\n",
    "Z = stACN.stACN_master(low_dim_x, cell_spatial.A,gt)"
   ]
  },
  {
   "cell_type": "code",
   "execution_count": null,
   "metadata": {},
   "outputs": [],
   "source": [
    "learned_graph_from_matlab = Z\n",
    "import igraph as ig\n",
    "import leidenalg\n",
    "from natsort import natsorted\n",
    "sources, targets = learned_graph_from_matlab.nonzero()\n",
    "ans_weight = learned_graph_from_matlab[sources, targets]\n",
    "g = ig.Graph(directed=True)\n",
    "g.add_vertices(learned_graph_from_matlab.shape[0])  # this adds adjacency.shape[0] vertices\n",
    "g.add_edges(list(zip(sources, targets)))\n",
    "g.es['weight'] = ans_weight\n",
    "partition_type = leidenalg.RBConfigurationVertexPartition\n",
    "# clustering proper\n",
    "partition_kwargs = {'weights': np.array(g.es['weight']).astype(np.float64), 'n_iterations': -1, 'seed': 42,'resolution_parameter': 1.16}\n",
    "part = leidenalg.find_partition(g, partition_type, **partition_kwargs)\n",
    "# store output into adata.obs\n",
    "groups = np.array(part.membership)\n",
    "leiden_label = pd.Categorical(\n",
    "    values=groups.astype('U'),\n",
    "    categories=natsorted(map(str, np.unique(groups))),\n",
    ")\n",
    "print(leiden_label)\n",
    "adjusted_rand_score(pd.Categorical(adata.obs['Ground Truth']).codes, leiden_label)"
   ]
  },
  {
   "cell_type": "code",
   "execution_count": null,
   "metadata": {},
   "outputs": [],
   "source": [
    "adata.obs['stACN'] = leiden_label\n",
    "from utils.cluster import refine\n",
    "refined_pred = refine(sample_id=adata.obs.index.tolist(), pred=adata.obs['stACN'].tolist(),dis=weights_adj, shape=\"hexagon\")\n",
    "adata.obs[\"stACN_refined_pred\"] = refined_pred\n",
    "adata.obs[\"stACN_refined_pred\"] = adata.obs[\"stACN_refined_pred\"].astype('category')\n",
    "multi_ari = adjusted_rand_score(pd.Categorical(adata.obs['Ground Truth']).codes, adata.obs['MULTI_LABEL'])\n",
    "refine_ari = adjusted_rand_score(pd.Categorical(adata.obs['Ground Truth']).codes, adata.obs['refined_pred'])\n",
    "sc.pl.spatial(adata, color=['stACN', 'stACN_refined_pred', 'Ground Truth'], title=['stACN (ARI=%.2f)'% multi_ari, 'refine_multi (ARI=%.2f)'%refine_ari, 'Ground Truth'], alpha_img=0, size=1.6,save=section_id)"
   ]
  },
  {
   "cell_type": "code",
   "execution_count": null,
   "metadata": {},
   "outputs": [],
   "source": []
  }
 ],
 "metadata": {
  "kernelspec": {
   "display_name": "deepl",
   "language": "python",
   "name": "your_out_env"
  },
  "language_info": {
   "codemirror_mode": {
    "name": "ipython",
    "version": 3
   },
   "file_extension": ".py",
   "mimetype": "text/x-python",
   "name": "python",
   "nbconvert_exporter": "python",
   "pygments_lexer": "ipython3",
   "version": "3.9.16"
  }
 },
 "nbformat": 4,
 "nbformat_minor": 2
}