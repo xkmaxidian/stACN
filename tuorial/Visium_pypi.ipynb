{
 "cells": [
  {
   "cell_type": "markdown",
   "metadata": {},
   "source": [
    "## Data Preparation"
   ]
  },
  {
   "cell_type": "code",
   "metadata": {
    "ExecuteTime": {
     "end_time": "2024-07-15T13:43:22.467128Z",
     "start_time": "2024-07-15T13:43:20.507727Z"
    }
   },
   "source": [
    "import scanpy as sc\n",
    "import mnmstpy as mnmst\n",
    "import pandas as pd\n",
    "import numpy as np\n",
    "import os\n",
    "import sys\n",
    "from sklearn.metrics.cluster import adjusted_rand_score\n",
    "import warnings\n",
    "import src.logger as l\n",
    "warnings.filterwarnings(\"ignore\")"
   ],
   "outputs": [],
   "execution_count": 1
  },
  {
   "cell_type": "code",
   "metadata": {
    "ExecuteTime": {
     "end_time": "2024-07-15T13:43:23.106206Z",
     "start_time": "2024-07-15T13:43:22.468132Z"
    }
   },
   "source": [
    "section_id = \"151675\"\n",
    "input_dir = os.path.join('../data',section_id)\n",
    "adata = sc.read_visium(path=input_dir, count_file=section_id+'_filtered_feature_bc_matrix.h5')\n",
    "\n",
    "sc.pp.filter_genes(adata, min_counts=10)\n",
    "sc.pp.highly_variable_genes(adata, flavor=\"seurat_v3\", n_top_genes=3000)\n",
    "hvg_filter = adata.var['highly_variable']\n",
    "\n",
    "sc.pp.normalize_total(adata, inplace=True)\n",
    "# sc.pp.log1p(adata)\n",
    "adata = adata[:, hvg_filter]\n",
    "# sc.pp.scale(adata, zero_center=False, max_value=10)\n",
    "display(adata)"
   ],
   "outputs": [
    {
     "data": {
      "text/plain": [
       "View of AnnData object with n_obs × n_vars = 3592 × 3001\n",
       "    obs: 'in_tissue', 'array_row', 'array_col'\n",
       "    var: 'gene_ids', 'feature_types', 'genome', 'n_counts', 'highly_variable', 'highly_variable_rank', 'means', 'variances', 'variances_norm'\n",
       "    uns: 'spatial', 'hvg'\n",
       "    obsm: 'spatial'"
      ]
     },
     "metadata": {},
     "output_type": "display_data"
    }
   ],
   "execution_count": 2
  },
  {
   "cell_type": "markdown",
   "metadata": {},
   "source": [
    "#### Following [Squidpy], value of $K$ is set to 6 for Visium dataset"
   ]
  },
  {
   "cell_type": "code",
   "metadata": {
    "ExecuteTime": {
     "end_time": "2024-07-15T13:43:23.513343Z",
     "start_time": "2024-07-15T13:43:23.106712Z"
    }
   },
   "source": [
    "enhanced_adata, cell_spatial = mnmst.data_enhance(adata, k_nei=6)"
   ],
   "outputs": [
    {
     "name": "stdout",
     "output_type": "stream",
     "text": [
      "\n",
      "Median distance to closest cell = 138.00362314084367\n",
      "num_nbrs: 3001\n"
     ]
    }
   ],
   "execution_count": 3
  },
  {
   "cell_type": "markdown",
   "metadata": {},
   "source": [
    "### stACN uses the top 50 PCs of enhanced data by default"
   ]
  },
  {
   "cell_type": "code",
   "metadata": {
    "ExecuteTime": {
     "end_time": "2024-07-15T13:43:26.351251Z",
     "start_time": "2024-07-15T13:43:23.514340Z"
    }
   },
   "source": [
    "sc.pp.pca(enhanced_adata, n_comps=100)\n",
    "low_dim_x = enhanced_adata.obsm['X_pca']\n",
    "expression = low_dim_x"
   ],
   "outputs": [],
   "execution_count": 4
  },
  {
   "cell_type": "markdown",
   "metadata": {},
   "source": [
    "### Load the Ground Truth data"
   ]
  },
  {
   "cell_type": "code",
   "metadata": {
    "ExecuteTime": {
     "end_time": "2024-07-15T13:43:26.367236Z",
     "start_time": "2024-07-15T13:43:26.352252Z"
    }
   },
   "source": [
    "Ann_df = pd.read_csv(os.path.join('../data', section_id, section_id+'_truth.txt'), sep='\\t', header=None, index_col=0)\n",
    "Ann_df.columns = ['Ground Truth']"
   ],
   "outputs": [],
   "execution_count": 5
  },
  {
   "cell_type": "code",
   "metadata": {
    "ExecuteTime": {
     "end_time": "2024-07-15T13:43:26.414176Z",
     "start_time": "2024-07-15T13:43:26.368236Z"
    }
   },
   "source": [
    "adata.obs['Ground Truth'] = Ann_df.loc[adata.obs_names, 'Ground Truth']"
   ],
   "outputs": [],
   "execution_count": 6
  },
  {
   "cell_type": "markdown",
   "metadata": {},
   "source": [
    "# Execute stACN"
   ]
  },
  {
   "cell_type": "code",
   "metadata": {
    "jupyter": {
     "is_executing": true
    },
    "ExecuteTime": {
     "start_time": "2024-07-15T13:43:26.414682Z"
    }
   },
   "source": [
    "import torch\n",
    "from stacn import st_acn_gpu, st_acn\n",
    "\n",
    "device = torch.device('cuda' if torch.cuda.is_available() else 'cpu')\n",
    "Z_all =  st_acn_gpu(expression, cell_spatial, lamb=0.001, dim= 200, device=device)\n",
    "# Z_all =  st_acn(expression, cell_spatial, lamb=0.001, dim= 200)"
   ],
   "outputs": [
    {
     "name": "stderr",
     "output_type": "stream",
     "text": [
      "[st_acn] Iter 23: err=['2.4195e-04', '2.5657e-04'], max_err=5.2938e-04, thresh=1.0000e-05:  48%|████▊     | 24/50 [00:32<00:35,  1.36s/it]"
     ]
    }
   ],
   "execution_count": null
  },
  {
   "cell_type": "code",
   "metadata": {
    "jupyter": {
     "is_executing": true
    }
   },
   "source": [
    "Z_all = Z_all.cpu().detach().numpy()"
   ],
   "outputs": [],
   "execution_count": null
  },
  {
   "cell_type": "markdown",
   "metadata": {},
   "source": [
    "# Clustering"
   ]
  },
  {
   "cell_type": "code",
   "metadata": {
    "jupyter": {
     "is_executing": true
    }
   },
   "source": [
    "from sklearn.cluster import SpectralClustering\n",
    "\n",
    "n_clusters = 7\n",
    "spectral = SpectralClustering(n_clusters=n_clusters, affinity='precomputed')\n",
    "labels = spectral.fit_predict(Z_all)\n",
    "\n",
    "adata.obs['spe_pred'] = labels\n",
    "adata.obs[\"spe_pred\"] = adata.obs[\"spe_pred\"].astype('int')\n",
    "adata.obs['spe_pred'] = adata.obs['spe_pred'].astype('category')\n",
    "sc.pl.spatial(adata, color=['spe_pred'])"
   ],
   "outputs": [],
   "execution_count": null
  },
  {
   "cell_type": "code",
   "metadata": {
    "jupyter": {
     "is_executing": true
    }
   },
   "source": [
    "from src.utils import refine\n",
    "\n",
    "weights_adj = cell_spatial.A\n",
    "refined_pred = refine(sample_id=adata.obs.index.tolist(), pred=adata.obs['spe_pred'].tolist(), dis=weights_adj, shape=\"hexagon\")\n",
    "adata.obs[\"refined_pred\"] = refined_pred\n",
    "adata.obs[\"refined_pred\"] = adata.obs[\"refined_pred\"].astype('category')\n",
    "stACN_ari = adjusted_rand_score(pd.Categorical(adata.obs['Ground Truth']).codes, adata.obs['spe_pred'])\n",
    "refine_ari = adjusted_rand_score(pd.Categorical(adata.obs['Ground Truth']).codes, adata.obs['refined_pred'])\n",
    "stACN_ari, refine_ari"
   ],
   "outputs": [],
   "execution_count": null
  },
  {
   "cell_type": "code",
   "metadata": {
    "jupyter": {
     "is_executing": true
    }
   },
   "source": [
    "sc.pl.spatial(adata, color=['spe_pred', 'refined_pred', 'Ground Truth'], title=['stACN(ARI=%.3f)'% stACN_ari, 'refine_stACN(ARI=%.3f)'%refine_ari, 'Ground Truth'], size=1.5)"
   ],
   "outputs": [],
   "execution_count": null
  },
  {
   "metadata": {
    "jupyter": {
     "is_executing": true
    }
   },
   "cell_type": "code",
   "source": "### Display the denoised gene expression",
   "outputs": [],
   "execution_count": null
  },
  {
   "cell_type": "code",
   "metadata": {
    "jupyter": {
     "is_executing": true
    }
   },
   "source": [
    "raw_adata = sc.read_visium(path=input_dir, count_file=section_id+'_filtered_feature_bc_matrix.h5')\n",
    "sc.pp.filter_genes(raw_adata, min_counts=10)\n",
    "\n",
    "raw_adata.layers['denoised'] = Z_all @ raw_adata.X "
   ],
   "outputs": [],
   "execution_count": null
  },
  {
   "metadata": {
    "jupyter": {
     "is_executing": true
    }
   },
   "cell_type": "code",
   "source": [
    "# display the raw gene expression\n",
    "sc.pl.spatial(raw_adata, color=['C1QL2', 'NEFH', 'NTNG2', 'KRT17'], size=1.5)"
   ],
   "outputs": [],
   "execution_count": null
  },
  {
   "metadata": {
    "jupyter": {
     "is_executing": true
    }
   },
   "cell_type": "code",
   "source": [
    "# display the denoised gene expression\n",
    "sc.pl.spatial(raw_adata, color=['C1QL2', 'NEFH', 'NTNG2', 'KRT17'], layer='denoised', size=1.5)"
   ],
   "outputs": [],
   "execution_count": null
  },
  {
   "metadata": {
    "jupyter": {
     "is_executing": true
    }
   },
   "cell_type": "code",
   "source": "",
   "outputs": [],
   "execution_count": null
  }
 ],
 "metadata": {
  "kernelspec": {
   "display_name": "mucst-jupyter",
   "language": "python",
   "name": "mucst"
  },
  "language_info": {
   "codemirror_mode": {
    "name": "ipython",
    "version": 3
   },
   "file_extension": ".py",
   "mimetype": "text/x-python",
   "name": "python",
   "nbconvert_exporter": "python",
   "pygments_lexer": "ipython3",
   "version": "3.9.19"
  }
 },
 "nbformat": 4,
 "nbformat_minor": 4
}
